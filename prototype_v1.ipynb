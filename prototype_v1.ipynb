{
 "cells": [
  {
   "cell_type": "code",
   "execution_count": 38,
   "metadata": {},
   "outputs": [],
   "source": [
    "import os\n",
    "import openai\n",
    "import random\n",
    "from openai import OpenAI"
   ]
  },
  {
   "cell_type": "code",
   "execution_count": 39,
   "metadata": {},
   "outputs": [],
   "source": [
    "from dotenv import load_dotenv\n",
    "load_dotenv()\n",
    "api_key = os.getenv(\"OPENAI_API_KEY\")\n"
   ]
  },
  {
   "cell_type": "code",
   "execution_count": 40,
   "metadata": {},
   "outputs": [],
   "source": [
    "client = OpenAI(\n",
    "    api_key=api_key\n",
    ")"
   ]
  },
  {
   "cell_type": "code",
   "execution_count": 60,
   "metadata": {},
   "outputs": [],
   "source": [
    "tarot_cards = {\n",
    "    \"The Fool\": \"New beginnings, optimism, trust in life\",\n",
    "    \"The Magician\": \"Power, potential, and the unification of the physical and spiritual worlds\",\n",
    "    \"The High Priestess\": \"Intuition, mystery, and understanding\",\n",
    "    \"The Empress\": \"Fertility, femininity, beauty, nature\",\n",
    "    \"The Emperor\": \"Authority, structure, control\",\n",
    "    \"The Hierophant\": \"Tradition, conformity, and spiritual guidance\",\n",
    "    \"The Lovers\": \"Love, relationships, and harmony\",\n",
    "    \"The Chariot\": \"Control, willpower, and success\",\n",
    "    \"Strength\": \"Courage, patience, and inner strength\",\n",
    "    \"The Hermit\": \"Introspection, contemplation, and seeking guidance\",\n",
    "    \"Wheel of Fortune\": \"Change, cycles, and destiny\",\n",
    "    \"Justice\": \"Justice, fairness, and truth\",\n",
    "}"
   ]
  },
  {
   "cell_type": "code",
   "execution_count": 61,
   "metadata": {},
   "outputs": [],
   "source": [
    "def determine_tarot_card():\n",
    "    card, meaning = random.choice(list(tarot_cards.items()))\n",
    "    return card, meaning"
   ]
  },
  {
   "cell_type": "code",
   "execution_count": 46,
   "metadata": {},
   "outputs": [],
   "source": [
    "def ask_question():\n",
    "    question = input(\"What would you like to ask the tarot cards? \")\n",
    "    return question"
   ]
  },
  {
   "cell_type": "code",
   "execution_count": 53,
   "metadata": {},
   "outputs": [],
   "source": [
    "def get_user_emotion(user_input):\n",
    "\n",
    "    emotion = client.chat.completions.create(\n",
    "  model=\"gpt-4o\",\n",
    "  messages=[\n",
    "    {\n",
    "      \"role\": \"system\",\n",
    "      \"content\": \"You will be provided with a user context, and your task is to classify its sentiment as positive, neutral, or negative.\"\n",
    "    },\n",
    "    {\n",
    "      \"role\": \"user\",\n",
    "      \"content\": user_input\n",
    "    }\n",
    "  ],\n",
    "  temperature=1,\n",
    "  max_tokens=256,\n",
    "  top_p=1\n",
    ")\n",
    "    return emotion.choices[0].message.content"
   ]
  },
  {
   "cell_type": "code",
   "execution_count": 55,
   "metadata": {},
   "outputs": [
    {
     "data": {
      "text/plain": [
       "'Negative'"
      ]
     },
     "execution_count": 55,
     "metadata": {},
     "output_type": "execute_result"
    }
   ],
   "source": [
    "get_user_emotion(\"I am feeling sad today\")"
   ]
  },
  {
   "cell_type": "code",
   "execution_count": 64,
   "metadata": {},
   "outputs": [],
   "source": [
    "def get_tarot_reading(question, card, meaning):\n",
    "    response = client.chat.completions.create(\n",
    "\n",
    "        model=\"gpt-4\",\n",
    "        messages=[\n",
    "            {\n",
    "                \"role\": \"system\",\n",
    "                \"content\": \"You will be provided with a tarot card and its meaning. Your task is to respond like a tarot reader while subtly assessing if the individual requires mental health support in the background. If an individual needs support, you keep asking questions; otherwise, say thank you and bless them to have a good day.\"\n",
    "            },\n",
    "            {\n",
    "                \"role\": \"user\",\n",
    "                \"content\": question + \" \" + card + \" \" + meaning\n",
    "            }\n",
    "        ],\n",
    "        response_format={\"type\": \"text\"},\n",
    "        temperature=1,\n",
    "        max_completion_tokens=256,\n",
    "        top_p=1,\n",
    "        frequency_penalty=0,\n",
    "        presence_penalty=0\n",
    "    )\n",
    "    return response\n",
    "    # return response.choices[0].message.content\n"
   ]
  },
  {
   "cell_type": "code",
   "execution_count": 65,
   "metadata": {},
   "outputs": [],
   "source": [
    "def main():\n",
    "    question = ask_question()\n",
    "    card, meaning = determine_tarot_card()\n",
    "    print(f\"Your card is {card}. This card represents {meaning}.\")\n",
    "    \n",
    "    while (get_user_emotion(question) == \"Negative\"):\n",
    "        question = input(\"I'm sorry to hear that. Would you like to talk about it? \")\n",
    "\n",
    "\n",
    "    response = get_tarot_reading(question, card, meaning)\n",
    "    print(response.choices[0].message.content)\n",
    "    \n",
    "    "
   ]
  },
  {
   "cell_type": "code",
   "execution_count": 67,
   "metadata": {},
   "outputs": [
    {
     "name": "stdout",
     "output_type": "stream",
     "text": [
      "Your card is The Emperor. This card represents Authority, structure, control.\n",
      "I see, you've drawn the Emperor. This card embodies leadership, stability, and authority. It seems like things have been challenging, though, feeling as if you're in a constant struggle, especially with finances. Is this a recurring theme in your life or a recent development?\n"
     ]
    }
   ],
   "source": [
    "main()"
   ]
  },
  {
   "cell_type": "code",
   "execution_count": null,
   "metadata": {},
   "outputs": [],
   "source": []
  },
  {
   "cell_type": "code",
   "execution_count": null,
   "metadata": {},
   "outputs": [],
   "source": []
  },
  {
   "cell_type": "code",
   "execution_count": 26,
   "metadata": {},
   "outputs": [
    {
     "name": "stdout",
     "output_type": "stream",
     "text": [
      "It seems like you're on the brink of a fresh beginning, driven by your optimism and trust in life. This card symbolizes spontaneity, surprise, and unexplored potential. In the context of love, it may indicate meeting someone new and engaging in an impulsive yet passionate relationship.\n",
      "\n",
      "However, The Fool also encourages you to remain open yet vigilant. It's essential to proceed with an open heart while not being blind to potential risks or faults, thereby maintaining a healthy balance. Now, can you tell me how you're feeling right now? Do you feel excited or maybe a little anxious about the next step?\n"
     ]
    }
   ],
   "source": [
    "\n",
    "print(get_tarot_reading(input(\"Enter your question or situation for the tarot reading: \")).choices[0].message.content)"
   ]
  },
  {
   "cell_type": "code",
   "execution_count": 44,
   "metadata": {},
   "outputs": [],
   "source": [
    "determine_tarot_card()\n",
    "res = get_tarot_reading(\"What does my future hold?\")"
   ]
  },
  {
   "cell_type": "code",
   "execution_count": 45,
   "metadata": {},
   "outputs": [
    {
     "name": "stdout",
     "output_type": "stream",
     "text": [
      "Ah, the Empress! This is a great card to draw. It highlights your deep connection with femininity, beauty, and fertility. It represents abundance, creativity, and life-giving energy. It suggests that you are cultivating a life nurtured by inspiration and a deep bond with Mother Nature. You might be in a place where you are nurturing a certain project or relationship in your life. Or perhaps, you might be ready to birth a new idea in your life. But, let's explore it deeper.\n",
      "\n",
      "How are you currently feeling about your life? Have you been dreaming of something coming to fruition or has there been a significant growth or change recently?\n"
     ]
    }
   ],
   "source": [
    "print(res.choices[0].message.content)"
   ]
  }
 ],
 "metadata": {
  "kernelspec": {
   "display_name": "base",
   "language": "python",
   "name": "python3"
  },
  "language_info": {
   "codemirror_mode": {
    "name": "ipython",
    "version": 3
   },
   "file_extension": ".py",
   "mimetype": "text/x-python",
   "name": "python",
   "nbconvert_exporter": "python",
   "pygments_lexer": "ipython3",
   "version": "3.12.2"
  }
 },
 "nbformat": 4,
 "nbformat_minor": 2
}
